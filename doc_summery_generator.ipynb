{
 "cells": [
  {
   "cell_type": "code",
   "execution_count": null,
   "id": "f0e3696a-9893-42c6-8dd4-2f461d37a3bd",
   "metadata": {},
   "outputs": [],
   "source": [
    "import os, asyncio, json, tqdm, dotenv\n",
    "import numpy as np\n",
    "import pandas as pd\n",
    "from langchain import llm_cache\n",
    "from langchain.chat_models import ChatOpenAI\n",
    "from langchain.chains.summarize import load_summarize_chain\n",
    "from langchain.text_splitter import RecursiveCharacterTextSplitter\n",
    "from langchain.chains.combine_documents.base import BaseCombineDocumentsChain\n",
    "from langchain.schema import Document\n",
    "from langchain.document_loaders import CSVLoader\n",
    "from langchain.cache import InMemoryCache\n",
    "from typing import Tuple, Dict, Iterable, Callable\n",
    "dotenv.load_dotenv()\n",
    "\n",
    "# cache llm calls (faster when repeating queries and prompts)\n",
    "llm_cache = InMemoryCache()\n",
    "os.environ[\"PRETRAINED_SUMMARY_MODEL_NAME\"]='gpt-3.5-turbo-16k'"
   ]
  },
  {
   "cell_type": "code",
   "execution_count": null,
   "id": "3786f1b1-d465-4a93-8ea8-9995440e86b6",
   "metadata": {},
   "outputs": [],
   "source": [
    "DATA_PATH = \"data/ctg-studies.csv\"\n",
    "df = pd.read_csv(DATA_PATH)\n",
    "df.head(3)"
   ]
  },
  {
   "cell_type": "code",
   "execution_count": null,
   "id": "255b7c1f-f6c4-46d4-bd38-1b1c730d15c6",
   "metadata": {},
   "outputs": [],
   "source": [
    "df.columns"
   ]
  },
  {
   "cell_type": "code",
   "execution_count": null,
   "id": "9ced6d58",
   "metadata": {},
   "outputs": [],
   "source": [
    "df.shape"
   ]
  },
  {
   "cell_type": "code",
   "execution_count": null,
   "id": "d6bc5870-1972-4caf-b653-257b24235e11",
   "metadata": {},
   "outputs": [],
   "source": [
    "df = df.replace(np.nan, \"unknown\")\n",
    "PROCESSED_DATA_PATH  = \"data/processed-ctg-studies.csv\"\n",
    "df.to_csv(PROCESSED_DATA_PATH, index=False)"
   ]
  },
  {
   "cell_type": "code",
   "execution_count": null,
   "id": "b6281ff3-4239-4b9f-8e2e-4ae5fdfaba08",
   "metadata": {},
   "outputs": [],
   "source": [
    "doc_loader = CSVLoader(PROCESSED_DATA_PATH, encoding=\"utf8\")\n",
    "doc_splitter = RecursiveCharacterTextSplitter(chunk_size=1_024, chunk_overlap=100)\n",
    "docs = doc_loader.load()\n",
    "docs = doc_splitter.split_documents(docs)\n",
    "print(f\"number of documents: {len(docs)}\")\n",
    "docs[0]"
   ]
  },
  {
   "cell_type": "code",
   "execution_count": null,
   "id": "6c8adb70-c371-47c0-82ef-8987d667a393",
   "metadata": {},
   "outputs": [],
   "source": [
    "class DataQueue:\n",
    "    def __init__(self):\n",
    "        self.data = []\n",
    "\n",
    "    def __len__(self):\n",
    "        return len(self.data)\n",
    "        \n",
    "    def enqueue(self, entry: Dict[str, str]):\n",
    "        self.data.append(entry)\n",
    "    \n",
    "    def dequeue(self, idx: int):\n",
    "        self.data.pop(idx)\n",
    "    \n",
    "    def __repr__(self):\n",
    "        return f\"{self.data}\"\n",
    "    \n",
    "    def __getiitem__(self, idx: int):\n",
    "        return self.data[idx]"
   ]
  },
  {
   "cell_type": "code",
   "execution_count": null,
   "id": "51d7c7b5-4a1e-4866-b102-131a8713ad1a",
   "metadata": {},
   "outputs": [],
   "source": [
    "def summarize(summary_chain: BaseCombineDocumentsChain, doc_id: int, document: Document, queue: DataQueue):\n",
    "    summary = summary_chain.run([document])\n",
    "    entry = dict(id=doc_id, document=document.page_content, summary=summary)\n",
    "    queue.enqueue(entry)\n",
    "\n",
    "\n",
    "async def summary_coroutine(f: Callable, args: Tuple, semaphore: asyncio.Semaphore):\n",
    "    running_loop = asyncio.get_running_loop()\n",
    "    summarize_func = lambda : f(*args)\n",
    "    async with semaphore:\n",
    "        await running_loop.run_in_executor(None, summarize_func, )\n",
    "\n",
    "\n",
    "async def main(\n",
    "    docs: Iterable[Document], \n",
    "    summary_chain: BaseCombineDocumentsChain, \n",
    "    queue: DataQueue, \n",
    "    n_concurrency: int=10):\n",
    "    tasks = []\n",
    "    semaphore = asyncio.Semaphore(value=n_concurrency)\n",
    "    for i, doc in enumerate(docs):\n",
    "        task = summary_coroutine(summarize, args=(summary_chain, i, doc, queue), semaphore=semaphore)\n",
    "        tasks.append(task)\n",
    "    [\n",
    "        await _ for _ in tqdm.tqdm(asyncio.as_completed(tasks))\n",
    "    ]\n",
    "\n",
    "    "
   ]
  },
  {
   "cell_type": "code",
   "execution_count": null,
   "id": "57ac998f-fe61-4fb8-b27a-88adee1eb92c",
   "metadata": {},
   "outputs": [],
   "source": [
    "llm = ChatOpenAI(model=os.environ[\"PRETRAINED_SUMMARY_MODEL_NAME\"], temperature=0.2)\n",
    "summary_chain = load_summarize_chain(llm, chain_type=\"map_reduce\")\n",
    "queue = DataQueue()\n",
    "\n",
    "await main(docs, summary_chain, n_concurrency=20, queue=queue)"
   ]
  },
  {
   "cell_type": "code",
   "execution_count": null,
   "id": "15d9f8b9-794e-46a4-bfff-cf1c3b02d426",
   "metadata": {},
   "outputs": [],
   "source": [
    "JSON_DATA_PATH = \"data/doc_summary_pair.json\"\n",
    "queue.data = sorted(queue.data, key= lambda x : x[\"id\"])\n",
    "with open(JSON_DATA_PATH, \"w\") as f:\n",
    "    json.dump(queue.data, f, indent=4)\n",
    "f.close()"
   ]
  }
 ],
 "metadata": {
  "kernelspec": {
   "display_name": "Python 3",
   "language": "python",
   "name": "python3"
  },
  "language_info": {
   "codemirror_mode": {
    "name": "ipython",
    "version": 3
   },
   "file_extension": ".py",
   "mimetype": "text/x-python",
   "name": "python",
   "nbconvert_exporter": "python",
   "pygments_lexer": "ipython3",
   "version": "3.8.7"
  }
 },
 "nbformat": 4,
 "nbformat_minor": 5
}
